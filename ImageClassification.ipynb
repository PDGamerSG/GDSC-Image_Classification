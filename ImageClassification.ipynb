{
  "nbformat": 4,
  "nbformat_minor": 0,
  "metadata": {
    "colab": {
      "provenance": [],
      "gpuType": "T4",
      "authorship_tag": "ABX9TyN8FYVnyFU45EJSo6ejQi47",
      "include_colab_link": true
    },
    "kernelspec": {
      "name": "python3",
      "display_name": "Python 3"
    },
    "language_info": {
      "name": "python"
    },
    "accelerator": "GPU"
  },
  "cells": [
    {
      "cell_type": "markdown",
      "metadata": {
        "id": "view-in-github",
        "colab_type": "text"
      },
      "source": [
        "<a href=\"https://colab.research.google.com/github/PDGamerSG/GDSC-Image_Classification/blob/main/ImageClassification.ipynb\" target=\"_parent\"><img src=\"https://colab.research.google.com/assets/colab-badge.svg\" alt=\"Open In Colab\"/></a>"
      ]
    },
    {
      "cell_type": "code",
      "execution_count": 1,
      "metadata": {
        "id": "WIwS7IW7GDIP"
      },
      "outputs": [],
      "source": [
        "!pip install -q kaggle"
      ]
    },
    {
      "cell_type": "code",
      "source": [
        "from google.colab import files\n",
        "files.upload()"
      ],
      "metadata": {
        "colab": {
          "base_uri": "https://localhost:8080/",
          "height": 90
        },
        "id": "W1bB-OX9HOUe",
        "outputId": "9c036108-1d40-4834-edad-77aa4fc08da0"
      },
      "execution_count": 2,
      "outputs": [
        {
          "output_type": "display_data",
          "data": {
            "text/plain": [
              "<IPython.core.display.HTML object>"
            ],
            "text/html": [
              "\n",
              "     <input type=\"file\" id=\"files-5839a282-30b6-445e-affc-5ce9c1fe46a1\" name=\"files[]\" multiple disabled\n",
              "        style=\"border:none\" />\n",
              "     <output id=\"result-5839a282-30b6-445e-affc-5ce9c1fe46a1\">\n",
              "      Upload widget is only available when the cell has been executed in the\n",
              "      current browser session. Please rerun this cell to enable.\n",
              "      </output>\n",
              "      <script>// Copyright 2017 Google LLC\n",
              "//\n",
              "// Licensed under the Apache License, Version 2.0 (the \"License\");\n",
              "// you may not use this file except in compliance with the License.\n",
              "// You may obtain a copy of the License at\n",
              "//\n",
              "//      http://www.apache.org/licenses/LICENSE-2.0\n",
              "//\n",
              "// Unless required by applicable law or agreed to in writing, software\n",
              "// distributed under the License is distributed on an \"AS IS\" BASIS,\n",
              "// WITHOUT WARRANTIES OR CONDITIONS OF ANY KIND, either express or implied.\n",
              "// See the License for the specific language governing permissions and\n",
              "// limitations under the License.\n",
              "\n",
              "/**\n",
              " * @fileoverview Helpers for google.colab Python module.\n",
              " */\n",
              "(function(scope) {\n",
              "function span(text, styleAttributes = {}) {\n",
              "  const element = document.createElement('span');\n",
              "  element.textContent = text;\n",
              "  for (const key of Object.keys(styleAttributes)) {\n",
              "    element.style[key] = styleAttributes[key];\n",
              "  }\n",
              "  return element;\n",
              "}\n",
              "\n",
              "// Max number of bytes which will be uploaded at a time.\n",
              "const MAX_PAYLOAD_SIZE = 100 * 1024;\n",
              "\n",
              "function _uploadFiles(inputId, outputId) {\n",
              "  const steps = uploadFilesStep(inputId, outputId);\n",
              "  const outputElement = document.getElementById(outputId);\n",
              "  // Cache steps on the outputElement to make it available for the next call\n",
              "  // to uploadFilesContinue from Python.\n",
              "  outputElement.steps = steps;\n",
              "\n",
              "  return _uploadFilesContinue(outputId);\n",
              "}\n",
              "\n",
              "// This is roughly an async generator (not supported in the browser yet),\n",
              "// where there are multiple asynchronous steps and the Python side is going\n",
              "// to poll for completion of each step.\n",
              "// This uses a Promise to block the python side on completion of each step,\n",
              "// then passes the result of the previous step as the input to the next step.\n",
              "function _uploadFilesContinue(outputId) {\n",
              "  const outputElement = document.getElementById(outputId);\n",
              "  const steps = outputElement.steps;\n",
              "\n",
              "  const next = steps.next(outputElement.lastPromiseValue);\n",
              "  return Promise.resolve(next.value.promise).then((value) => {\n",
              "    // Cache the last promise value to make it available to the next\n",
              "    // step of the generator.\n",
              "    outputElement.lastPromiseValue = value;\n",
              "    return next.value.response;\n",
              "  });\n",
              "}\n",
              "\n",
              "/**\n",
              " * Generator function which is called between each async step of the upload\n",
              " * process.\n",
              " * @param {string} inputId Element ID of the input file picker element.\n",
              " * @param {string} outputId Element ID of the output display.\n",
              " * @return {!Iterable<!Object>} Iterable of next steps.\n",
              " */\n",
              "function* uploadFilesStep(inputId, outputId) {\n",
              "  const inputElement = document.getElementById(inputId);\n",
              "  inputElement.disabled = false;\n",
              "\n",
              "  const outputElement = document.getElementById(outputId);\n",
              "  outputElement.innerHTML = '';\n",
              "\n",
              "  const pickedPromise = new Promise((resolve) => {\n",
              "    inputElement.addEventListener('change', (e) => {\n",
              "      resolve(e.target.files);\n",
              "    });\n",
              "  });\n",
              "\n",
              "  const cancel = document.createElement('button');\n",
              "  inputElement.parentElement.appendChild(cancel);\n",
              "  cancel.textContent = 'Cancel upload';\n",
              "  const cancelPromise = new Promise((resolve) => {\n",
              "    cancel.onclick = () => {\n",
              "      resolve(null);\n",
              "    };\n",
              "  });\n",
              "\n",
              "  // Wait for the user to pick the files.\n",
              "  const files = yield {\n",
              "    promise: Promise.race([pickedPromise, cancelPromise]),\n",
              "    response: {\n",
              "      action: 'starting',\n",
              "    }\n",
              "  };\n",
              "\n",
              "  cancel.remove();\n",
              "\n",
              "  // Disable the input element since further picks are not allowed.\n",
              "  inputElement.disabled = true;\n",
              "\n",
              "  if (!files) {\n",
              "    return {\n",
              "      response: {\n",
              "        action: 'complete',\n",
              "      }\n",
              "    };\n",
              "  }\n",
              "\n",
              "  for (const file of files) {\n",
              "    const li = document.createElement('li');\n",
              "    li.append(span(file.name, {fontWeight: 'bold'}));\n",
              "    li.append(span(\n",
              "        `(${file.type || 'n/a'}) - ${file.size} bytes, ` +\n",
              "        `last modified: ${\n",
              "            file.lastModifiedDate ? file.lastModifiedDate.toLocaleDateString() :\n",
              "                                    'n/a'} - `));\n",
              "    const percent = span('0% done');\n",
              "    li.appendChild(percent);\n",
              "\n",
              "    outputElement.appendChild(li);\n",
              "\n",
              "    const fileDataPromise = new Promise((resolve) => {\n",
              "      const reader = new FileReader();\n",
              "      reader.onload = (e) => {\n",
              "        resolve(e.target.result);\n",
              "      };\n",
              "      reader.readAsArrayBuffer(file);\n",
              "    });\n",
              "    // Wait for the data to be ready.\n",
              "    let fileData = yield {\n",
              "      promise: fileDataPromise,\n",
              "      response: {\n",
              "        action: 'continue',\n",
              "      }\n",
              "    };\n",
              "\n",
              "    // Use a chunked sending to avoid message size limits. See b/62115660.\n",
              "    let position = 0;\n",
              "    do {\n",
              "      const length = Math.min(fileData.byteLength - position, MAX_PAYLOAD_SIZE);\n",
              "      const chunk = new Uint8Array(fileData, position, length);\n",
              "      position += length;\n",
              "\n",
              "      const base64 = btoa(String.fromCharCode.apply(null, chunk));\n",
              "      yield {\n",
              "        response: {\n",
              "          action: 'append',\n",
              "          file: file.name,\n",
              "          data: base64,\n",
              "        },\n",
              "      };\n",
              "\n",
              "      let percentDone = fileData.byteLength === 0 ?\n",
              "          100 :\n",
              "          Math.round((position / fileData.byteLength) * 100);\n",
              "      percent.textContent = `${percentDone}% done`;\n",
              "\n",
              "    } while (position < fileData.byteLength);\n",
              "  }\n",
              "\n",
              "  // All done.\n",
              "  yield {\n",
              "    response: {\n",
              "      action: 'complete',\n",
              "    }\n",
              "  };\n",
              "}\n",
              "\n",
              "scope.google = scope.google || {};\n",
              "scope.google.colab = scope.google.colab || {};\n",
              "scope.google.colab._files = {\n",
              "  _uploadFiles,\n",
              "  _uploadFilesContinue,\n",
              "};\n",
              "})(self);\n",
              "</script> "
            ]
          },
          "metadata": {}
        },
        {
          "output_type": "stream",
          "name": "stdout",
          "text": [
            "Saving kaggle.json to kaggle.json\n"
          ]
        },
        {
          "output_type": "execute_result",
          "data": {
            "text/plain": [
              "{'kaggle.json': b'{\"username\":\"pdgamersg\",\"key\":\"35378d4ad319c63c6a143638f767f63c\"}'}"
            ]
          },
          "metadata": {},
          "execution_count": 2
        }
      ]
    },
    {
      "cell_type": "code",
      "source": [
        "!mkdir ~/.kaggle"
      ],
      "metadata": {
        "id": "NWUWV8SFHknD"
      },
      "execution_count": 3,
      "outputs": []
    },
    {
      "cell_type": "code",
      "source": [
        "!cp kaggle.json ~/.kaggle/"
      ],
      "metadata": {
        "id": "YE4w8bYuHssV"
      },
      "execution_count": 4,
      "outputs": []
    },
    {
      "cell_type": "code",
      "source": [
        "! chmod 600 ~/.kaggle/kaggle.json"
      ],
      "metadata": {
        "id": "6QwOHQDFH2ye"
      },
      "execution_count": 5,
      "outputs": []
    },
    {
      "cell_type": "code",
      "source": [
        "!kaggle datasets list"
      ],
      "metadata": {
        "colab": {
          "base_uri": "https://localhost:8080/"
        },
        "id": "f249yyFyH5hX",
        "outputId": "b9bc356e-af11-4fa9-f341-cc40a21020ef"
      },
      "execution_count": 6,
      "outputs": [
        {
          "output_type": "stream",
          "name": "stdout",
          "text": [
            "ref                                                              title                                             size  lastUpdated          downloadCount  voteCount  usabilityRating  \n",
            "---------------------------------------------------------------  -----------------------------------------------  -----  -------------------  -------------  ---------  ---------------  \n",
            "abdulmalik1518/mobiles-dataset-2025                              Mobiles Dataset (2025)                            20KB  2025-02-18 06:50:24           6184        106  1.0              \n",
            "asinow/car-price-dataset                                         Car Price Dataset                                135KB  2025-01-26 19:53:28          22998        370  1.0              \n",
            "mahmoudelhemaly/students-grading-dataset                         Student Performance & Behavior Dataset           508KB  2025-02-17 17:38:46           4980         98  1.0              \n",
            "samikshadalvi/lungs-diseases-dataset                             Lungs Diseases Dataset                            40KB  2025-02-25 01:51:36           1261         30  1.0              \n",
            "ankushpanday2/colorectal-cancer-global-dataset-and-predictions   Colorectal Cancer Global Dataset & Predictions     4MB  2025-02-27 18:30:45            883         24  1.0              \n",
            "asinow/diabetes-dataset                                          Diabetes Dataset                                 224KB  2025-02-20 08:38:56           3318         57  1.0              \n",
            "vinothkannaece/sales-dataset                                     sales dataset                                     27KB  2025-02-18 05:13:42           4642         67  1.0              \n",
            "ak0212/indian-car-market-dataset                                 Indian Car Market Dataset 🚗                      140KB  2025-02-18 04:20:32           1289         24  1.0              \n",
            "mohitbansal31s/pokemon-dataset                                   Pokemon dataset                                   22KB  2025-02-21 03:15:54           1374         31  1.0              \n",
            "viditgupta7/power-bi-sales-analysis-dashboard-for-nike-us        Power BI Sales Analysis Dashboard for Nike US    519KB  2025-03-02 18:40:58            431         22  0.9375           \n",
            "adilshamim8/student-performance-and-learning-style               Student Performance & Learning Style             148KB  2025-02-12 06:12:07           2245         38  1.0              \n",
            "adilshamim8/workout-and-fitness-tracker-data                     Workout & Fitness Tracker Dataset                272KB  2025-02-08 06:11:18           2124         34  1.0              \n",
            "willianoliveiragibin/netflix-interactive                         Netflix interactive                              441KB  2025-02-15 17:07:34           1193         29  1.0              \n",
            "ankushpanday2/heart-attack-risk-and-prediction-dataset-in-india  Heart Attack Risk & Prediction Dataset In India  269KB  2025-02-25 16:53:26           1332         26  1.0              \n",
            "himelsarder/coffee-shop-daily-revenue-prediction-dataset         Coffee Shop Daily Revenue Prediction Dataset      30KB  2025-02-07 07:29:16           2725         32  1.0              \n",
            "deadier/play-games-and-success-in-students                       Games and Success in Students                      4KB  2025-02-19 07:16:07            822         26  0.8235294        \n",
            "anandshaw2001/top-spotify-songs-in-73-countries                  Top Spotify Songs in 73 Countries                132MB  2025-02-18 17:18:42           1391         33  1.0              \n",
            "samayashar/fraud-detection-transactions-dataset                  Fraud Detection Transactions Dataset               2MB  2025-02-21 18:06:23           1859         35  1.0              \n",
            "adilshamim8/education-and-career-success                         Education & Career Success.                      118KB  2025-02-03 05:24:20           5867         77  1.0              \n",
            "samikshadalvi/pcos-diagnosis-dataset                             PCOS Diagnosis Dataset                             7KB  2025-02-19 23:03:44            832         29  1.0              \n"
          ]
        }
      ]
    },
    {
      "cell_type": "code",
      "source": [
        "!kaggle competitions download -c cifar-10"
      ],
      "metadata": {
        "colab": {
          "base_uri": "https://localhost:8080/"
        },
        "id": "EmfjraW6H7gm",
        "outputId": "867b0d92-bdee-4e11-e4e4-4be8dd40b6de"
      },
      "execution_count": 7,
      "outputs": [
        {
          "output_type": "stream",
          "name": "stdout",
          "text": [
            "Downloading cifar-10.zip to /content\n",
            "100% 714M/715M [00:07<00:00, 147MB/s]\n",
            "100% 715M/715M [00:07<00:00, 98.0MB/s]\n"
          ]
        }
      ]
    },
    {
      "cell_type": "code",
      "source": [
        "!unzip cifar-10.zip"
      ],
      "metadata": {
        "colab": {
          "base_uri": "https://localhost:8080/"
        },
        "id": "QgvLytcdIBKv",
        "outputId": "c6517e73-391b-4a8b-fa66-9f67b8b13f39"
      },
      "execution_count": 8,
      "outputs": [
        {
          "output_type": "stream",
          "name": "stdout",
          "text": [
            "Archive:  cifar-10.zip\n",
            "  inflating: sampleSubmission.csv    \n",
            "  inflating: test.7z                 \n",
            "  inflating: train.7z                \n",
            "  inflating: trainLabels.csv         \n"
          ]
        }
      ]
    },
    {
      "cell_type": "code",
      "source": [
        "!apt-get install p7zip-full\n",
        "!7z x train.7z"
      ],
      "metadata": {
        "id": "waBsBpveNLTY"
      },
      "execution_count": null,
      "outputs": []
    },
    {
      "cell_type": "code",
      "source": [
        "!apt-get install p7zip-full\n",
        "!7z x test.7z"
      ],
      "metadata": {
        "colab": {
          "base_uri": "https://localhost:8080/"
        },
        "id": "qKmvXF4EN6Vc",
        "outputId": "bb7ae624-7092-44f0-b090-587c2d4daca8"
      },
      "execution_count": 10,
      "outputs": [
        {
          "output_type": "stream",
          "name": "stdout",
          "text": [
            "^C\n",
            "\n",
            "7-Zip [64] 16.02 : Copyright (c) 1999-2016 Igor Pavlov : 2016-05-21\n",
            "p7zip Version 16.02 (locale=en_US.UTF-8,Utf16=on,HugeFiles=on,64 bits,2 CPUs Intel(R) Xeon(R) CPU @ 2.20GHz (406F0),ASM,AES-NI)\n",
            "\n",
            "Scanning the drive for archives:\n",
            "  0M Scan\b\b\b\b\b\b\b\b\b         \b\b\b\b\b\b\b\b\b1 file, 639374249 bytes (610 MiB)\n",
            "\n",
            "Extracting archive: test.7z\n",
            "--\n",
            "Path = test.7z\n",
            "Type = 7z\n",
            "Physical Size = 639374249\n",
            "Headers Size = 1721070\n",
            "Method = LZMA:26\n",
            "Solid = +\n",
            "Blocks = 1\n",
            "\n",
            "  0%\b\b\b\b    \b\b\b\b\n",
            "Archives with Errors: 1\n",
            "\n",
            "\n",
            "\n",
            "Break signaled\n"
          ]
        }
      ]
    },
    {
      "cell_type": "code",
      "source": [
        "import os\n",
        "import shutil\n",
        "import pandas as pd\n",
        "df = pd.read_csv('trainLabels.csv')\n",
        "source_folder = 'train'\n",
        "\n",
        "categories = df['label'].unique()\n",
        "for category in categories:\n",
        "    os.makedirs(category, exist_ok=True)\n",
        "\n",
        "for index, row in df.iterrows():\n",
        "    filename = f\"{row['id']}.png\" #f does that same thing only give value and then add at last png to make it a image\n",
        "    label = row['label']\n",
        "\n",
        "    source_file = os.path.join(source_folder, filename)\n",
        "    destination_file = os.path.join(label, filename)\n",
        "\n",
        "    if os.path.exists(source_file):\n",
        "        shutil.move(source_file, destination_file) #helps to move the file from the location\n",
        "        print(f\"Moved {filename} to {label} folder\")\n",
        "    else:\n",
        "        print(f\"Warning: File {filename} not found\")\n",
        "\n",
        "print(\"Image sorting complete\")\n"
      ],
      "metadata": {
        "id": "Z2D6a1YMQd5z"
      },
      "execution_count": null,
      "outputs": []
    },
    {
      "cell_type": "code",
      "source": [
        "from torchvision import transforms\n",
        "from torch.utils.data import Dataset, DataLoader\n",
        "from PIL import Image\n",
        "destination_folder = 'All Categories'\n",
        "if not os.path.exists(destination_folder):\n",
        "    os.makedirs(destination_folder)\n",
        "    print(f\"Folder '{destination_folder}' created successfully.\")\n",
        "folders_move = ['cat', 'dog','airplane','bird','deer','frog','horse','ship','train','truck','automobile']\n",
        "for folder in folders_move:\n",
        "    if os.path.exists(folder):\n",
        "        shutil.move(folder, destination_folder)\n",
        "\n",
        "class ImageDataset(Dataset):\n",
        "    def __init__(self, folder_path, transform=None):\n",
        "        self.folder_path = folder_path\n",
        "        self.transform = transform\n",
        "        self.classes = sorted(os.listdir(folder_path))\n",
        "        self.image_paths = []\n",
        "\n",
        "        for class_index, class_name in enumerate(self.classes):\n",
        "            class_folder = os.path.join(folder_path, class_name)\n",
        "            for img_file in os.listdir(class_folder):\n",
        "                self.image_paths.append((os.path.join(class_folder, img_file), class_index))\n",
        "\n",
        "    def __len__(self):\n",
        "        return len(self.image_paths)\n",
        "\n",
        "    def __getitem__(self, index):\n",
        "        img_path, label = self.image_paths[index]\n",
        "        image = Image.open(img_path).convert('RGB')\n",
        "\n",
        "        if self.transform:\n",
        "            image = self.transform(image)\n",
        "\n",
        "        return image, label\n",
        "\n",
        "transform = transforms.Compose([\n",
        "    transforms.Resize((32, 32)),\n",
        "    transforms.ToTensor(),\n",
        "    transforms.Normalize((0.5,), (0.5,))\n",
        "])\n",
        "\n",
        "dataset = ImageDataset(folder_path='/content/All Categories', transform=transform)\n",
        "\n",
        "data_loader = DataLoader(dataset, batch_size=64, shuffle=True)\n",
        "\n",
        "print(f\"Total images: {len(dataset)}\")\n",
        "print(f\"Classes: {dataset.classes}\")\n",
        "print(f\"Number of batches: {len(data_loader)}\")\n",
        "\n",
        "for class_name in dataset.classes:\n",
        "    class_folder = os.path.join('/content/All Categories', class_name)\n",
        "    num_images = len(os.listdir(class_folder))\n",
        "    print(f\"{class_name}: {num_images} images\")\n",
        "\n",
        "for images, labels in data_loader:\n",
        "    print(f\"Batch shape: {images.shape}\")\n",
        "    print(f\"Labels shape: {labels.shape}\")\n",
        "    break\n"
      ],
      "metadata": {
        "colab": {
          "base_uri": "https://localhost:8080/"
        },
        "id": "-kXiJCK-SWd1",
        "outputId": "6643e81c-ddd6-49ae-80a3-00507a8104bc"
      },
      "execution_count": 13,
      "outputs": [
        {
          "output_type": "stream",
          "name": "stdout",
          "text": [
            "Folder 'All Categories' created successfully.\n",
            "Total images: 50000\n",
            "Classes: ['airplane', 'automobile', 'bird', 'cat', 'deer', 'dog', 'frog', 'horse', 'ship', 'train', 'truck']\n",
            "Number of batches: 782\n",
            "airplane: 5000 images\n",
            "automobile: 5000 images\n",
            "bird: 5000 images\n",
            "cat: 5000 images\n",
            "deer: 5000 images\n",
            "dog: 5000 images\n",
            "frog: 5000 images\n",
            "horse: 5000 images\n",
            "ship: 5000 images\n",
            "train: 0 images\n",
            "truck: 5000 images\n",
            "Batch shape: torch.Size([64, 3, 32, 32])\n",
            "Labels shape: torch.Size([64])\n"
          ]
        }
      ]
    },
    {
      "cell_type": "code",
      "source": [
        "import torch\n",
        "import torch.nn as nn\n",
        "import torch.optim as optim\n",
        "from torchvision import transforms\n",
        "from torch.utils.data import Dataset, DataLoader\n",
        "from PIL import Image\n",
        "class SimpleCNN(nn.Module):\n",
        "    def __init__(self, num_classes):\n",
        "        super(SimpleCNN, self).__init__()\n",
        "        self.conv1 = nn.Conv2d(3, 32, 3, padding=1)\n",
        "        self.conv2 = nn.Conv2d(32, 64, 3, padding=1)\n",
        "        self.conv3 = nn.Conv2d(64, 64, 3, padding=1)\n",
        "        self.pool = nn.MaxPool2d(2, 2)\n",
        "        self.fc1 = nn.Linear(64 * 4 * 4, 64)\n",
        "        self.fc2 = nn.Linear(64, num_classes)\n",
        "\n",
        "    def forward(self, x):\n",
        "        x = self.pool(torch.relu(self.conv1(x)))\n",
        "        x = self.pool(torch.relu(self.conv2(x)))\n",
        "        x = self.pool(torch.relu(self.conv3(x)))\n",
        "        x = x.view(-1, 64 * 4 * 4)\n",
        "        x = torch.relu(self.fc1(x))\n",
        "        x = self.fc2(x)\n",
        "        return x\n",
        "\n",
        "num_classes = len(dataset.classes)\n",
        "model = SimpleCNN(num_classes)\n",
        "\n",
        "criterion = nn.CrossEntropyLoss()\n",
        "optimizer = optim.Adam(model.parameters(), lr=0.001)\n",
        "\n",
        "num_epochs = 10\n",
        "device = torch.device(\"cuda\" if torch.cuda.is_available() else \"cpu\")\n",
        "model.to(device)\n",
        "\n",
        "for epoch in range(num_epochs):\n",
        "    model.train()\n",
        "    running_loss = 0.0\n",
        "    for images, labels in data_loader:\n",
        "        images, labels = images.to(device), labels.to(device)\n",
        "\n",
        "        optimizer.zero_grad()\n",
        "        outputs = model(images)\n",
        "        loss = criterion(outputs, labels)\n",
        "        loss.backward()\n",
        "        optimizer.step()\n",
        "\n",
        "        running_loss += loss.item()\n",
        "\n",
        "    print(f\"Epoch [{epoch+1}/{num_epochs}], Loss: {running_loss/len(data_loader):.4f}\")\n",
        "\n",
        "model.eval()\n",
        "correct = 0\n",
        "total = 0\n",
        "with torch.no_grad():\n",
        "    for images, labels in data_loader:\n",
        "        images, labels = images.to(device), labels.to(device)\n",
        "        outputs = model(images)\n",
        "        _, predicted = torch.max(outputs.data, 1)\n",
        "        total += labels.size(0)\n",
        "        correct += (predicted == labels).sum().item()\n",
        "\n",
        "print(f'Accuracy on the dataset: {100 * correct / total}%')"
      ],
      "metadata": {
        "colab": {
          "base_uri": "https://localhost:8080/"
        },
        "id": "4NbGo5Cz4cT2",
        "outputId": "3286ad58-91f0-4ae2-ffc9-a5da196098bc"
      },
      "execution_count": 16,
      "outputs": [
        {
          "output_type": "stream",
          "name": "stdout",
          "text": [
            "Epoch [1/10], Loss: 1.5169\n",
            "Epoch [2/10], Loss: 1.1054\n",
            "Epoch [3/10], Loss: 0.9240\n",
            "Epoch [4/10], Loss: 0.8142\n",
            "Epoch [5/10], Loss: 0.7397\n",
            "Epoch [6/10], Loss: 0.6776\n",
            "Epoch [7/10], Loss: 0.6311\n",
            "Epoch [8/10], Loss: 0.5793\n",
            "Epoch [9/10], Loss: 0.5438\n",
            "Epoch [10/10], Loss: 0.5006\n",
            "Accuracy on the dataset: 85.156%\n"
          ]
        }
      ]
    },
    {
      "cell_type": "code",
      "source": [],
      "metadata": {
        "id": "qG9sKmPrDX56"
      },
      "execution_count": null,
      "outputs": []
    }
  ]
}